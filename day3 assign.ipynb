{
 "cells": [
  {
   "cell_type": "code",
   "execution_count": 2,
   "metadata": {},
   "outputs": [
    {
     "name": "stdout",
     "output_type": "stream",
     "text": [
      "Enter the altitude1000\n",
      "Safe to land\n"
     ]
    }
   ],
   "source": [
    "x=input(\"Enter the altitude\")\n",
    "x= int(x)\n",
    "if (x<=1000):\n",
    "    print (\"Safe to land\")\n",
    "elif (x>1000) and (x<=5000):\n",
    "    print (\"Bring down to 1000\")\n",
    "else:\n",
    "    print (\"Turn around\")\n"
   ]
  },
  {
   "cell_type": "code",
   "execution_count": 3,
   "metadata": {},
   "outputs": [
    {
     "name": "stdout",
     "output_type": "stream",
     "text": [
      "Enter the altitude4500\n",
      "Bring down to 1000\n"
     ]
    }
   ],
   "source": [
    "x=input(\"Enter the altitude\")\n",
    "x= int(x)\n",
    "if (x<=1000):\n",
    "    print (\"Safe to land\")\n",
    "elif (x>1000) and (x<=5000):\n",
    "    print (\"Bring down to 1000\")\n",
    "else:\n",
    "    print (\"Turn around\")\n"
   ]
  },
  {
   "cell_type": "code",
   "execution_count": 4,
   "metadata": {},
   "outputs": [
    {
     "name": "stdout",
     "output_type": "stream",
     "text": [
      "Enter the altitude6500\n",
      "Turn around\n"
     ]
    }
   ],
   "source": [
    "x=input(\"Enter the altitude\")\n",
    "x= int(x)\n",
    "if (x<=1000):\n",
    "    print (\"Safe to land\")\n",
    "elif (x>1000) and (x<=5000):\n",
    "    print (\"Bring down to 1000\")\n",
    "else:\n",
    "    print (\"Turn around\")\n"
   ]
  },
  {
   "cell_type": "code",
   "execution_count": 5,
   "metadata": {},
   "outputs": [
    {
     "name": "stdout",
     "output_type": "stream",
     "text": [
      "Prime numbers between 1 and 200 are:\n",
      "2\n",
      "3\n",
      "5\n",
      "7\n",
      "11\n",
      "13\n",
      "17\n",
      "19\n",
      "23\n",
      "29\n",
      "31\n",
      "37\n",
      "41\n",
      "43\n",
      "47\n",
      "53\n",
      "59\n",
      "61\n",
      "67\n",
      "71\n",
      "73\n",
      "79\n",
      "83\n",
      "89\n",
      "97\n",
      "101\n",
      "103\n",
      "107\n",
      "109\n",
      "113\n",
      "127\n",
      "131\n",
      "137\n",
      "139\n",
      "149\n",
      "151\n",
      "157\n",
      "163\n",
      "167\n",
      "173\n",
      "179\n",
      "181\n",
      "191\n",
      "193\n",
      "197\n",
      "199\n"
     ]
    }
   ],
   "source": [
    "a = 1\n",
    "b = 200\n",
    "\n",
    "print(\"Prime numbers between\", a, \"and\", b, \"are:\")\n",
    "\n",
    "for x in range(a, b + 1):\n",
    "   if x > 1:\n",
    "       for i in range(2, x):\n",
    "           if (x % i) == 0:\n",
    "               break\n",
    "       else:\n",
    "           print(x)"
   ]
  },
  {
   "cell_type": "code",
   "execution_count": 6,
   "metadata": {},
   "outputs": [
    {
     "name": "stdout",
     "output_type": "stream",
     "text": [
      "The first armstrong number= 1741725\n"
     ]
    }
   ],
   "source": [
    "\n",
    "first = 1042000\n",
    "last = 702648265\n",
    "\n",
    "for number in range(first, last + 1):\n",
    "   orders = len(str(number))\n",
    "    \n",
    "   sum = 0\n",
    "\n",
    "   temp = number\n",
    "   while temp > 0:\n",
    "       digits = temp % 10\n",
    "       sum += digits ** orders\n",
    "       temp //= 10\n",
    "\n",
    "   if number == sum:\n",
    "       print(\"The first armstrong number=\",number)\n",
    "       break\n"
   ]
  },
  {
   "cell_type": "code",
   "execution_count": null,
   "metadata": {},
   "outputs": [],
   "source": []
  }
 ],
 "metadata": {
  "kernelspec": {
   "display_name": "Python 3",
   "language": "python",
   "name": "python3"
  },
  "language_info": {
   "codemirror_mode": {
    "name": "ipython",
    "version": 3
   },
   "file_extension": ".py",
   "mimetype": "text/x-python",
   "name": "python",
   "nbconvert_exporter": "python",
   "pygments_lexer": "ipython3",
   "version": "3.8.3"
  }
 },
 "nbformat": 4,
 "nbformat_minor": 4
}
