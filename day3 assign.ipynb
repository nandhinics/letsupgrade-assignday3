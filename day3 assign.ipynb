{
 "cells": [
  {
   "cell_type": "code",
   "execution_count": 2,
   "metadata": {},
   "outputs": [
    {
     "name": "stdout",
     "output_type": "stream",
     "text": [
      "Enter the altitude1000\n",
      "Safe to land\n"
     ]
    }
   ],
   "source": [
    "x=input(\"Enter the altitude\")\n",
    "x= int(x)\n",
    "if (x<=1000):\n",
    "    print (\"Safe to land\")\n",
    "elif (x>1000) and (x<=5000):\n",
    "    print (\"Bring down to 1000\")\n",
    "else:\n",
    "    print (\"Turn around\")\n"
   ]
  },
  {
   "cell_type": "code",
   "execution_count": 3,
   "metadata": {},
   "outputs": [
    {
     "name": "stdout",
     "output_type": "stream",
     "text": [
      "Enter the altitude4500\n",
      "Bring down to 1000\n"
     ]
    }
   ],
   "source": [
    "x=input(\"Enter the altitude\")\n",
    "x= int(x)\n",
    "if (x<=1000):\n",
    "    print (\"Safe to land\")\n",
    "elif (x>1000) and (x<=5000):\n",
    "    print (\"Bring down to 1000\")\n",
    "else:\n",
    "    print (\"Turn around\")\n"
   ]
  },
  {
   "cell_type": "code",
   "execution_count": 4,
   "metadata": {},
   "outputs": [
    {
     "name": "stdout",
     "output_type": "stream",
     "text": [
      "Enter the altitude6500\n",
      "Turn around\n"
     ]
    }
   ],
   "source": [
    "x=input(\"Enter the altitude\")\n",
    "x= int(x)\n",
    "if (x<=1000):\n",
    "    print (\"Safe to land\")\n",
    "elif (x>1000) and (x<=5000):\n",
    "    print (\"Bring down to 1000\")\n",
    "else:\n",
    "    print (\"Turn around\")\n"
   ]
  },
  {
   "cell_type": "code",
   "execution_count": null,
   "metadata": {},
   "outputs": [],
   "source": []
  }
 ],
 "metadata": {
  "kernelspec": {
   "display_name": "Python 3",
   "language": "python",
   "name": "python3"
  },
  "language_info": {
   "codemirror_mode": {
    "name": "ipython",
    "version": 3
   },
   "file_extension": ".py",
   "mimetype": "text/x-python",
   "name": "python",
   "nbconvert_exporter": "python",
   "pygments_lexer": "ipython3",
   "version": "3.8.3"
  }
 },
 "nbformat": 4,
 "nbformat_minor": 4
}
